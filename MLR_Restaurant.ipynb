{
 "cells": [
  {
   "cell_type": "code",
   "execution_count": 177,
   "id": "bb1cb981-579b-4964-ae9a-3875ffb1e187",
   "metadata": {},
   "outputs": [],
   "source": [
    "#A Multiple Linear Regression model to investigate what factors most affect a restaurant's Yelp rating and predict the Yelp rating for a restaurant.\n",
    "\n",
    "import pandas as pd\n",
    "from sklearn.model_selection import train_test_split\n",
    "from sklearn.linear_model import LinearRegression\n",
    "import matplotlib.pyplot as plt\n",
    "business = pd.read_json('yelp_business.json', lines=True)\n",
    "checkin = pd.read_json('yelp_checkin.json', lines=True)\n",
    "data = pd.read_json('yelp_data.json', lines=True)\n",
    "photo = pd.read_json('yelp_photo.json', lines=True)\n",
    "review = pd.read_json('yelp_review.json', lines=True)\n",
    "tip = pd.read_json('yelp_tip.json', lines=True)\n",
    "user = pd.read_json('yelp_user.json', lines=True)"
   ]
  },
  {
   "cell_type": "code",
   "execution_count": 178,
   "id": "3d40a9a0-d2cc-4daa-958a-9ce43c5340e2",
   "metadata": {},
   "outputs": [
    {
     "name": "stdout",
     "output_type": "stream",
     "text": [
      "<class 'pandas.core.frame.DataFrame'>\n",
      "RangeIndex: 188593 entries, 0 to 188592\n",
      "Data columns (total 23 columns):\n",
      " #   Column              Non-Null Count   Dtype  \n",
      "---  ------              --------------   -----  \n",
      " 0   address             188593 non-null  object \n",
      " 1   attributes          162807 non-null  object \n",
      " 2   business_id         188593 non-null  object \n",
      " 3   categories          188052 non-null  object \n",
      " 4   city                188593 non-null  object \n",
      " 5   hours               143791 non-null  object \n",
      " 6   is_open             188593 non-null  int64  \n",
      " 7   latitude            188587 non-null  float64\n",
      " 8   longitude           188587 non-null  float64\n",
      " 9   name                188593 non-null  object \n",
      " 10  neighborhood        188593 non-null  object \n",
      " 11  postal_code         188593 non-null  object \n",
      " 12  review_count        188593 non-null  int64  \n",
      " 13  stars               188593 non-null  float64\n",
      " 14  state               188593 non-null  object \n",
      " 15  alcohol?            188593 non-null  int64  \n",
      " 16  has_bike_parking    188593 non-null  int64  \n",
      " 17  takes_credit_cards  188593 non-null  int64  \n",
      " 18  good_for_kids       188593 non-null  int64  \n",
      " 19  price_range         188593 non-null  int64  \n",
      " 20  take_reservations   188593 non-null  int64  \n",
      " 21  has_wifi            188593 non-null  int64  \n",
      " 22  pic_count           32976 non-null   float64\n",
      "dtypes: float64(4), int64(9), object(10)\n",
      "memory usage: 33.1+ MB\n",
      "None\n"
     ]
    }
   ],
   "source": [
    "print(data.info())"
   ]
  },
  {
   "cell_type": "code",
   "execution_count": 179,
   "id": "d632b24b-3e37-437f-901a-0097a54b861a",
   "metadata": {},
   "outputs": [
    {
     "name": "stdout",
     "output_type": "stream",
     "text": [
      "<class 'pandas.core.frame.DataFrame'>\n",
      "RangeIndex: 157075 entries, 0 to 157074\n",
      "Data columns (total 4 columns):\n",
      " #   Column            Non-Null Count   Dtype \n",
      "---  ------            --------------   ----- \n",
      " 0   business_id       157075 non-null  object\n",
      " 1   time              157075 non-null  object\n",
      " 2   weekday_checkins  157075 non-null  int64 \n",
      " 3   weekend_checkins  157075 non-null  int64 \n",
      "dtypes: int64(2), object(2)\n",
      "memory usage: 4.8+ MB\n",
      "None\n"
     ]
    }
   ],
   "source": [
    "print(checkin.info())"
   ]
  },
  {
   "cell_type": "code",
   "execution_count": 180,
   "id": "9c07dc6a-7c2c-439a-887c-68368d580446",
   "metadata": {},
   "outputs": [
    {
     "name": "stdout",
     "output_type": "stream",
     "text": [
      "<class 'pandas.core.frame.DataFrame'>\n",
      "RangeIndex: 188593 entries, 0 to 188592\n",
      "Data columns (total 7 columns):\n",
      " #   Column                    Non-Null Count   Dtype  \n",
      "---  ------                    --------------   -----  \n",
      " 0   business_id               188593 non-null  object \n",
      " 1   average_review_age        188593 non-null  float64\n",
      " 2   average_review_length     188593 non-null  float64\n",
      " 3   average_review_sentiment  188593 non-null  float64\n",
      " 4   number_funny_votes        188593 non-null  int64  \n",
      " 5   number_cool_votes         188593 non-null  int64  \n",
      " 6   number_useful_votes       188593 non-null  int64  \n",
      "dtypes: float64(3), int64(3), object(1)\n",
      "memory usage: 10.1+ MB\n",
      "None\n"
     ]
    }
   ],
   "source": [
    "print(review.info())"
   ]
  },
  {
   "cell_type": "code",
   "execution_count": 181,
   "id": "2de450b3-152c-451c-b672-fa8ef0053295",
   "metadata": {},
   "outputs": [
    {
     "name": "stdout",
     "output_type": "stream",
     "text": [
      "<class 'pandas.core.frame.DataFrame'>\n",
      "RangeIndex: 32976 entries, 0 to 32975\n",
      "Data columns (total 3 columns):\n",
      " #   Column                  Non-Null Count  Dtype  \n",
      "---  ------                  --------------  -----  \n",
      " 0   business_id             32976 non-null  object \n",
      " 1   average_caption_length  32976 non-null  float64\n",
      " 2   number_pics             32976 non-null  int64  \n",
      "dtypes: float64(1), int64(1), object(1)\n",
      "memory usage: 773.0+ KB\n",
      "None\n"
     ]
    }
   ],
   "source": [
    "print(photo.info())"
   ]
  },
  {
   "cell_type": "code",
   "execution_count": 182,
   "id": "84b02b27-0c0c-4427-baf8-20c474948cda",
   "metadata": {},
   "outputs": [
    {
     "name": "stdout",
     "output_type": "stream",
     "text": [
      "<class 'pandas.core.frame.DataFrame'>\n",
      "RangeIndex: 121526 entries, 0 to 121525\n",
      "Data columns (total 3 columns):\n",
      " #   Column              Non-Null Count   Dtype  \n",
      "---  ------              --------------   -----  \n",
      " 0   business_id         121526 non-null  object \n",
      " 1   average_tip_length  121526 non-null  float64\n",
      " 2   number_tips         121526 non-null  int64  \n",
      "dtypes: float64(1), int64(1), object(1)\n",
      "memory usage: 2.8+ MB\n",
      "None\n"
     ]
    }
   ],
   "source": [
    "print(tip.info())"
   ]
  },
  {
   "cell_type": "code",
   "execution_count": 183,
   "id": "da868a5d-9de5-4d76-9b0e-088d6ea6eb75",
   "metadata": {},
   "outputs": [
    {
     "name": "stdout",
     "output_type": "stream",
     "text": [
      "               address                                         attributes  \\\n",
      "0    1314 44 Avenue NE  {'BikeParking': 'False', 'BusinessAcceptsCredi...   \n",
      "1                       {'Alcohol': 'none', 'BikeParking': 'False', 'B...   \n",
      "2  1335 rue Beaubien E  {'Alcohol': 'beer_and_wine', 'Ambience': '{'ro...   \n",
      "3      211 W Monroe St                                               None   \n",
      "4  2005 Alyth Place SE             {'BusinessAcceptsCreditCards': 'True'}   \n",
      "\n",
      "              business_id                                         categories  \\\n",
      "0  Apn5Q_b6Nz61Tq4XzPdf9A  Tours, Breweries, Pizza, Restaurants, Food, Ho...   \n",
      "1  AjEbIBw6ZFfln7ePHha9PA  Chicken Wings, Burgers, Caterers, Street Vendo...   \n",
      "2  O8S5hYJ1SMc8fA4QBtVujA  Breakfast & Brunch, Restaurants, French, Sandw...   \n",
      "3  bFzdJJ3wp3PZssNEsyU23g                      Insurance, Financial Services   \n",
      "4  8USyCYqpScwiNEb58Bt6CA  Home & Garden, Nurseries & Gardening, Shopping...   \n",
      "\n",
      "        city                                              hours  is_open  \\\n",
      "0    Calgary  {'Monday': '8:30-17:0', 'Tuesday': '11:0-21:0'...        1   \n",
      "1  Henderson  {'Friday': '17:0-23:0', 'Saturday': '17:0-23:0...        0   \n",
      "2   Montréal  {'Monday': '10:0-22:0', 'Tuesday': '10:0-22:0'...        0   \n",
      "3    Phoenix                                               None        1   \n",
      "4    Calgary  {'Monday': '8:0-17:0', 'Tuesday': '8:0-17:0', ...        1   \n",
      "\n",
      "    latitude   longitude                  name  ... average_review_length  \\\n",
      "0  51.091813 -114.031675  Minhas Micro Brewery  ...            532.916667   \n",
      "1  35.960734 -114.939821   CK'S BBQ & Catering  ...            481.333333   \n",
      "2  45.540503  -73.599300         La Bastringue  ...            252.000000   \n",
      "3  33.449999 -112.076979       Geico Insurance  ...            672.625000   \n",
      "4  51.035591 -114.027366         Action Engine  ...           1015.500000   \n",
      "\n",
      "  average_review_sentiment  number_funny_votes  number_cool_votes  \\\n",
      "0                 0.865342                   6                  5   \n",
      "1                 0.975000                   0                  1   \n",
      "2                 0.301240                   0                  2   \n",
      "3                -0.060500                   1                  0   \n",
      "4                 0.372550                   0                  0   \n",
      "\n",
      "  number_useful_votes                                               time  \\\n",
      "0                  13  {'Fri-0': 1, 'Sun-0': 3, 'Thu-0': 1, 'Fri-1': ...   \n",
      "1                   1                                       {'Sun-1': 1}   \n",
      "2                   1  {'Mon-0': 1, 'Sun-0': 1, 'Fri-1': 1, 'Sun-1': ...   \n",
      "3                   3                                      {'Wed-18': 1}   \n",
      "4                   4                         {'Thu-14': 1, 'Thu-20': 1}   \n",
      "\n",
      "   weekday_checkins  weekend_checkins  average_tip_length  number_tips  \n",
      "0              11.0              18.0                38.0          6.0  \n",
      "1               0.0               1.0                66.0          1.0  \n",
      "2               2.0               5.0                32.0          1.0  \n",
      "3               1.0               0.0                 NaN          NaN  \n",
      "4               2.0               0.0                 NaN          NaN  \n",
      "\n",
      "[5 rows x 34 columns]\n"
     ]
    }
   ],
   "source": [
    "df = data.merge(review, on='business_id', how='left')\n",
    "df = df.merge(checkin, on='business_id', how='left')\n",
    "df = df.merge(tip, on='business_id', how='left')\n",
    "print(df.head())"
   ]
  },
  {
   "cell_type": "code",
   "execution_count": 189,
   "id": "a46c3c1a-571a-40d3-8824-af0727915d30",
   "metadata": {},
   "outputs": [
    {
     "name": "stdout",
     "output_type": "stream",
     "text": [
      "address                          0\n",
      "attributes                   25786\n",
      "business_id                      0\n",
      "categories                     541\n",
      "city                             0\n",
      "hours                        44802\n",
      "is_open                          0\n",
      "latitude                         6\n",
      "longitude                        6\n",
      "name                             0\n",
      "neighborhood                     0\n",
      "postal_code                      0\n",
      "review_count                     0\n",
      "stars                            0\n",
      "state                            0\n",
      "alcohol?                         0\n",
      "has_bike_parking                 0\n",
      "takes_credit_cards               0\n",
      "good_for_kids                    0\n",
      "price_range                      0\n",
      "take_reservations                0\n",
      "has_wifi                         0\n",
      "pic_count                   155617\n",
      "average_review_age               0\n",
      "average_review_length            0\n",
      "average_review_sentiment         0\n",
      "number_funny_votes               0\n",
      "number_cool_votes                0\n",
      "number_useful_votes              0\n",
      "time                         31518\n",
      "weekday_checkins             31518\n",
      "weekend_checkins             31518\n",
      "average_tip_length           67067\n",
      "number_tips                  67067\n",
      "dtype: int64\n",
      "<class 'pandas.core.frame.DataFrame'>\n",
      "RangeIndex: 188593 entries, 0 to 188592\n",
      "Data columns (total 34 columns):\n",
      " #   Column                    Non-Null Count   Dtype  \n",
      "---  ------                    --------------   -----  \n",
      " 0   address                   188593 non-null  object \n",
      " 1   attributes                162807 non-null  object \n",
      " 2   business_id               188593 non-null  object \n",
      " 3   categories                188052 non-null  object \n",
      " 4   city                      188593 non-null  object \n",
      " 5   hours                     143791 non-null  object \n",
      " 6   is_open                   188593 non-null  int64  \n",
      " 7   latitude                  188587 non-null  float64\n",
      " 8   longitude                 188587 non-null  float64\n",
      " 9   name                      188593 non-null  object \n",
      " 10  neighborhood              188593 non-null  object \n",
      " 11  postal_code               188593 non-null  object \n",
      " 12  review_count              188593 non-null  int64  \n",
      " 13  stars                     188593 non-null  float64\n",
      " 14  state                     188593 non-null  object \n",
      " 15  alcohol?                  188593 non-null  int64  \n",
      " 16  has_bike_parking          188593 non-null  int64  \n",
      " 17  takes_credit_cards        188593 non-null  int64  \n",
      " 18  good_for_kids             188593 non-null  int64  \n",
      " 19  price_range               188593 non-null  int64  \n",
      " 20  take_reservations         188593 non-null  int64  \n",
      " 21  has_wifi                  188593 non-null  int64  \n",
      " 22  pic_count                 32976 non-null   float64\n",
      " 23  average_review_age        188593 non-null  float64\n",
      " 24  average_review_length     188593 non-null  float64\n",
      " 25  average_review_sentiment  188593 non-null  float64\n",
      " 26  number_funny_votes        188593 non-null  int64  \n",
      " 27  number_cool_votes         188593 non-null  int64  \n",
      " 28  number_useful_votes       188593 non-null  int64  \n",
      " 29  time                      157075 non-null  object \n",
      " 30  weekday_checkins          157075 non-null  float64\n",
      " 31  weekend_checkins          157075 non-null  float64\n",
      " 32  average_tip_length        121526 non-null  float64\n",
      " 33  number_tips               121526 non-null  float64\n",
      "dtypes: float64(11), int64(12), object(11)\n",
      "memory usage: 48.9+ MB\n",
      "None\n",
      "<class 'pandas.core.frame.DataFrame'>\n",
      "RangeIndex: 188593 entries, 0 to 188592\n",
      "Data columns (total 34 columns):\n",
      " #   Column                    Non-Null Count   Dtype  \n",
      "---  ------                    --------------   -----  \n",
      " 0   address                   188593 non-null  object \n",
      " 1   attributes                188593 non-null  object \n",
      " 2   business_id               188593 non-null  object \n",
      " 3   categories                188593 non-null  object \n",
      " 4   city                      188593 non-null  object \n",
      " 5   hours                     188593 non-null  object \n",
      " 6   is_open                   188593 non-null  int64  \n",
      " 7   latitude                  188593 non-null  float64\n",
      " 8   longitude                 188593 non-null  float64\n",
      " 9   name                      188593 non-null  object \n",
      " 10  neighborhood              188593 non-null  object \n",
      " 11  postal_code               188593 non-null  object \n",
      " 12  review_count              188593 non-null  int64  \n",
      " 13  stars                     188593 non-null  float64\n",
      " 14  state                     188593 non-null  object \n",
      " 15  alcohol?                  188593 non-null  int64  \n",
      " 16  has_bike_parking          188593 non-null  int64  \n",
      " 17  takes_credit_cards        188593 non-null  int64  \n",
      " 18  good_for_kids             188593 non-null  int64  \n",
      " 19  price_range               188593 non-null  int64  \n",
      " 20  take_reservations         188593 non-null  int64  \n",
      " 21  has_wifi                  188593 non-null  int64  \n",
      " 22  pic_count                 188593 non-null  float64\n",
      " 23  average_review_age        188593 non-null  float64\n",
      " 24  average_review_length     188593 non-null  float64\n",
      " 25  average_review_sentiment  188593 non-null  float64\n",
      " 26  number_funny_votes        188593 non-null  int64  \n",
      " 27  number_cool_votes         188593 non-null  int64  \n",
      " 28  number_useful_votes       188593 non-null  int64  \n",
      " 29  time                      188593 non-null  object \n",
      " 30  weekday_checkins          188593 non-null  float64\n",
      " 31  weekend_checkins          188593 non-null  float64\n",
      " 32  average_tip_length        188593 non-null  float64\n",
      " 33  number_tips               188593 non-null  float64\n",
      "dtypes: float64(11), int64(12), object(11)\n",
      "memory usage: 48.9+ MB\n",
      "None\n"
     ]
    }
   ],
   "source": [
    "print(df.isnull().sum())\n",
    "print(df.info())\n",
    "df.fillna(0, inplace=True)\n",
    "print(df.info())"
   ]
  },
  {
   "cell_type": "code",
   "execution_count": 197,
   "id": "c02a61ae-028f-41b9-aa91-9d84fd105d91",
   "metadata": {},
   "outputs": [
    {
     "name": "stdout",
     "output_type": "stream",
     "text": [
      "Correlation between stars and average_review_age: -0.12564548217662141\n",
      "Correlation between stars and average_review_length: -0.277081166923253\n",
      "Correlation between stars and average_review_sentiment: 0.7821870918438218\n",
      "Correlation between stars and has_bike_parking: 0.06808445390567085\n",
      "Correlation between stars and pic_count: 0.001727280733274791\n",
      "Correlation between stars and is_open: 0.051913177239486095\n",
      "Correlation between stars and latitude: -0.09325533124511924\n",
      "Correlation between stars and longitude: -0.08226511171542174\n",
      "Correlation between stars and review_count: 0.032413313301725546\n",
      "Correlation between stars and alcohol?: -0.04333212810315695\n",
      "Correlation between stars and takes_credit_cards: 0.03774797023496702\n",
      "Correlation between stars and good_for_kids: -0.030381991019304437\n",
      "Correlation between stars and price_range: -0.05256472745725947\n",
      "Correlation between stars and take_reservations: -0.02448603044314825\n",
      "Correlation between stars and has_wifi: -0.039856897255561234\n",
      "Correlation between stars and number_funny_votes: 0.0013201028888184122\n",
      "Correlation between stars and number_cool_votes: 0.04337525453767207\n",
      "Correlation between stars and number_useful_votes: -6.62416623178992e-05\n",
      "Correlation between stars and weekday_checkins: 0.004129812190851335\n",
      "Correlation between stars and weekend_checkins: 0.007862831591656905\n",
      "Correlation between stars and average_tip_length: -0.052899242598126686\n",
      "Correlation between stars and number_tips: 0.014037585569833162\n"
     ]
    }
   ],
   "source": [
    "X = df[[\n",
    "    \"average_review_age\", \n",
    "    \"average_review_length\", \n",
    "    \"average_review_sentiment\",\n",
    "    \"has_bike_parking\",\n",
    "    \"pic_count\",\n",
    "    \"is_open\",\n",
    "    \"latitude\",\n",
    "    \"longitude\",\n",
    "    \"review_count\",\n",
    "    \"alcohol?\",\n",
    "    \"takes_credit_cards\",\n",
    "    \"good_for_kids\",\n",
    "    \"price_range\",\n",
    "    \"take_reservations\",\n",
    "    \"has_wifi\",\n",
    "    \"number_funny_votes\",\n",
    "    \"number_cool_votes\",\n",
    "    \"number_useful_votes\",\n",
    "    \"weekday_checkins\",\n",
    "    \"weekend_checkins\",\n",
    "    \"average_tip_length\",\n",
    "    \"number_tips\"\n",
    "]]\n",
    "\n",
    "Y = df['stars']\n",
    "\n",
    "for col in X:\n",
    "    if col != \"stars\":  # Avoid self-correlation\n",
    "        print(f\"Correlation between stars and {col}: {df['stars'].corr(df[col])}\")\n"
   ]
  },
  {
   "cell_type": "code",
   "execution_count": 198,
   "id": "38eb9a69-c423-4f01-b1d6-37ed4b18c914",
   "metadata": {},
   "outputs": [],
   "source": [
    "X_train, X_test, y_train, y_test = train_test_split(X, Y, test_size = 0.2, random_state = 1)"
   ]
  },
  {
   "cell_type": "code",
   "execution_count": 199,
   "id": "10a122a8-233b-4252-9fa1-8af9d3b820ae",
   "metadata": {},
   "outputs": [],
   "source": [
    "model = LinearRegression()\n",
    "model.fit(X_train, y_train)\n",
    "predictions = model.predict(X_test)"
   ]
  },
  {
   "cell_type": "code",
   "execution_count": 200,
   "id": "a33a1573-9ea0-4f56-bcfc-254357b6559f",
   "metadata": {},
   "outputs": [
    {
     "name": "stdout",
     "output_type": "stream",
     "text": [
      "[4.71933812 3.44233694 3.42589933 ... 4.56124299 3.20691139 4.5155744 ]\n"
     ]
    }
   ],
   "source": [
    "print(predictions)"
   ]
  },
  {
   "cell_type": "code",
   "execution_count": 201,
   "id": "e542fadc-6879-4bb5-956b-d2d6db09b74b",
   "metadata": {},
   "outputs": [
    {
     "name": "stdout",
     "output_type": "stream",
     "text": [
      "(37719, 22)\n",
      "(37719,)\n",
      "(37719,)\n"
     ]
    }
   ],
   "source": [
    "print(X_test.shape)  # Should be (number_of_samples, 1)\n",
    "print(y_test.shape)  # Should be (number_of_samples,)\n",
    "print(predictions.shape)  # Should be (number_of_samples,)"
   ]
  },
  {
   "cell_type": "code",
   "execution_count": 202,
   "id": "b0cf24d2-ae85-4d8f-a67d-b06908cabb46",
   "metadata": {},
   "outputs": [
    {
     "name": "stdout",
     "output_type": "stream",
     "text": [
      "0.6762214663659004\n",
      "0.6731676438588594\n"
     ]
    }
   ],
   "source": [
    "print(model.score(X_train, y_train))\n",
    "print(model.score(X_test, y_test))"
   ]
  },
  {
   "cell_type": "code",
   "execution_count": 206,
   "id": "899dfaa3-c189-49f6-a33e-6557857ccd86",
   "metadata": {},
   "outputs": [
    {
     "name": "stdout",
     "output_type": "stream",
     "text": [
      "[-9.47779833e-05 -6.03673074e-04  2.27983305e+00  1.49165409e-02\n",
      " -1.44341906e-03  6.84368659e-02 -8.10596450e-03  5.39470057e-04\n",
      "  1.55594241e-04 -1.42359544e-01  2.68855512e-02 -1.23198275e-01\n",
      " -6.76556294e-02  3.25060131e-02 -1.31054709e-01 -1.34924126e-05\n",
      "  8.62924839e-04 -1.92380293e-04  6.72504450e-05 -1.09593907e-04\n",
      " -4.86434910e-04 -9.69975923e-04]\n"
     ]
    },
    {
     "data": {
      "image/png": "[encoded data removed]",
      "text/plain": [
       "<Figure size 640x480 with 1 Axes>"
      ]
     },
     "metadata": {},
     "output_type": "display_data"
    }
   ],
   "source": [
    "plt.scatter(predictions, y_test, alpha=0.4)\n",
    "\n",
    "#plt.plot(range(len(y_test)), range(len(y_test)), color='red')\n",
    "plt.xlabel(\"h\")\n",
    "plt.ylabel(\"Predicted stars\")\n",
    "plt.title(\"Actual Rent vs Predicted stars\")\n",
    "print(model.coef_)\n",
    "plt.show()"
   ]
  },
  {
   "cell_type": "code",
   "execution_count": null,
   "id": "3e9df33c-2469-4d76-aa01-f0ef18e8c20c",
   "metadata": {},
   "outputs": [],
   "source": []
  }
 ],
 "metadata": {
  "kernelspec": {
   "display_name": "Python 3 (ipykernel)",
   "language": "python",
   "name": "python3"
  },
  "language_info": {
   "codemirror_mode": {
    "name": "ipython",
    "version": 3
   },
   "file_extension": ".py",
   "mimetype": "text/x-python",
   "name": "python",
   "nbconvert_exporter": "python",
   "pygments_lexer": "ipython3",
   "version": "3.12.9"
  }
 },
 "nbformat": 4,
 "nbformat_minor": 5
}
